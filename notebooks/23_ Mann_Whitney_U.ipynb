{
 "cells": [
  {
   "cell_type": "code",
   "execution_count": 1,
   "metadata": {},
   "outputs": [],
   "source": [
    "import os, sys\n",
    "import dotenv\n",
    "\n",
    "import pandas as pd\n",
    "import numpy as np\n",
    "import networkx as nx\n",
    "from tqdm import tqdm\n",
    "import matplotlib.pyplot as plt\n",
    "\n",
    "sys.path.append(os.environ.get('PATH_OPENSKY'))\n",
    "from user_eval import get_df_posts \n",
    "from news_outlet_eval import get_news_feed, get_posts_from_nos\n",
    "\n",
    "dotenv.load_dotenv('.env')    \n",
    "PATH_DATA = os.environ.get('PATH_OPENSKY') + os.environ.get('PATH_REL_DATA')\n",
    "PATH_USER_POSTS = PATH_DATA + 'user_posts/'\n",
    "\n",
    "PATH_RESULTS = os.environ.get('PATH_OPENSKY') + 'results/'\n",
    "PATH_USER_REPLIES_NEWS_POSTS = PATH_RESULTS + 'agg_user_replies_news_posts_2.csv'\n",
    "PATH_ALL_SENTIMENTS = os.environ.get('PATH_OPENSKY') + 'results/all_sentiments_over_time.csv'\n"
   ]
  },
  {
   "cell_type": "code",
   "execution_count": 2,
   "metadata": {},
   "outputs": [
    {
     "name": "stderr",
     "output_type": "stream",
     "text": [
      "/tmp/ipykernel_1888105/4123129271.py:1: DtypeWarning: Columns (17) have mixed types. Specify dtype option on import or set low_memory=False.\n",
      "  df_news_posts = pd.read_csv(PATH_USER_REPLIES_NEWS_POSTS)\n",
      "/tmp/ipykernel_1888105/4123129271.py:8: FutureWarning: Setting an item of incompatible dtype is deprecated and will raise in a future error of pandas. Value '['positive' 'positive' 'neutral' ... 'negative' 'negative' 'neutral']' has dtype incompatible with float64, please explicitly cast to a compatible dtype first.\n",
      "  df_news_posts.loc[:, 'sent_label'] = df_news_posts.sent_label.map(sent_label_mapping)\n"
     ]
    },
    {
     "data": {
      "text/html": [
       "<div>\n",
       "<style scoped>\n",
       "    .dataframe tbody tr th:only-of-type {\n",
       "        vertical-align: middle;\n",
       "    }\n",
       "\n",
       "    .dataframe tbody tr th {\n",
       "        vertical-align: top;\n",
       "    }\n",
       "\n",
       "    .dataframe thead th {\n",
       "        text-align: right;\n",
       "    }\n",
       "</style>\n",
       "<table border=\"1\" class=\"dataframe\">\n",
       "  <thead>\n",
       "    <tr style=\"text-align: right;\">\n",
       "      <th></th>\n",
       "      <th>post_id</th>\n",
       "      <th>user_id</th>\n",
       "      <th>instance</th>\n",
       "      <th>date</th>\n",
       "      <th>text</th>\n",
       "      <th>langs</th>\n",
       "      <th>like_count</th>\n",
       "      <th>reply_count</th>\n",
       "      <th>repost_count</th>\n",
       "      <th>reply_to</th>\n",
       "      <th>replied_author</th>\n",
       "      <th>thread_root</th>\n",
       "      <th>thread_root_author</th>\n",
       "      <th>repost_from</th>\n",
       "      <th>reposted_author</th>\n",
       "      <th>quotes</th>\n",
       "      <th>quoted_author</th>\n",
       "      <th>labels</th>\n",
       "      <th>sent_label</th>\n",
       "      <th>sent_score</th>\n",
       "    </tr>\n",
       "  </thead>\n",
       "  <tbody>\n",
       "    <tr>\n",
       "      <th>0</th>\n",
       "      <td>10657080</td>\n",
       "      <td>284413</td>\n",
       "      <td>bsky.social</td>\n",
       "      <td>2024-01-14 08:03:00</td>\n",
       "      <td>let’s hope his expands ten fold 💪💪</td>\n",
       "      <td>['eng']</td>\n",
       "      <td>0</td>\n",
       "      <td>0</td>\n",
       "      <td>0</td>\n",
       "      <td>10657081.0</td>\n",
       "      <td>15717.0</td>\n",
       "      <td>10657081.0</td>\n",
       "      <td>15717.0</td>\n",
       "      <td>NaN</td>\n",
       "      <td>NaN</td>\n",
       "      <td>NaN</td>\n",
       "      <td>NaN</td>\n",
       "      <td>NaN</td>\n",
       "      <td>positive</td>\n",
       "      <td>0.945</td>\n",
       "    </tr>\n",
       "    <tr>\n",
       "      <th>1</th>\n",
       "      <td>10657084</td>\n",
       "      <td>284413</td>\n",
       "      <td>bsky.social</td>\n",
       "      <td>2024-01-12 22:12:00</td>\n",
       "      <td>yes, we can do this! 💪</td>\n",
       "      <td>['eng']</td>\n",
       "      <td>3</td>\n",
       "      <td>0</td>\n",
       "      <td>0</td>\n",
       "      <td>5595208.0</td>\n",
       "      <td>2486.0</td>\n",
       "      <td>5595208.0</td>\n",
       "      <td>2486.0</td>\n",
       "      <td>NaN</td>\n",
       "      <td>NaN</td>\n",
       "      <td>NaN</td>\n",
       "      <td>NaN</td>\n",
       "      <td>NaN</td>\n",
       "      <td>positive</td>\n",
       "      <td>0.956</td>\n",
       "    </tr>\n",
       "    <tr>\n",
       "      <th>2</th>\n",
       "      <td>10657085</td>\n",
       "      <td>284413</td>\n",
       "      <td>bsky.social</td>\n",
       "      <td>2024-01-11 14:19:00</td>\n",
       "      <td>in other words, “as long as it takes” it refer...</td>\n",
       "      <td>['eng']</td>\n",
       "      <td>0</td>\n",
       "      <td>1</td>\n",
       "      <td>0</td>\n",
       "      <td>10657086.0</td>\n",
       "      <td>12030.0</td>\n",
       "      <td>10657086.0</td>\n",
       "      <td>12030.0</td>\n",
       "      <td>NaN</td>\n",
       "      <td>NaN</td>\n",
       "      <td>NaN</td>\n",
       "      <td>NaN</td>\n",
       "      <td>NaN</td>\n",
       "      <td>neutral</td>\n",
       "      <td>0.583</td>\n",
       "    </tr>\n",
       "    <tr>\n",
       "      <th>3</th>\n",
       "      <td>10657096</td>\n",
       "      <td>284413</td>\n",
       "      <td>bsky.social</td>\n",
       "      <td>2024-01-08 14:10:00</td>\n",
       "      <td>i’ll believe it when i see the weapons in Ukra...</td>\n",
       "      <td>['eng']</td>\n",
       "      <td>0</td>\n",
       "      <td>0</td>\n",
       "      <td>0</td>\n",
       "      <td>10657097.0</td>\n",
       "      <td>15717.0</td>\n",
       "      <td>10657097.0</td>\n",
       "      <td>15717.0</td>\n",
       "      <td>NaN</td>\n",
       "      <td>NaN</td>\n",
       "      <td>NaN</td>\n",
       "      <td>NaN</td>\n",
       "      <td>NaN</td>\n",
       "      <td>neutral</td>\n",
       "      <td>0.509</td>\n",
       "    </tr>\n",
       "    <tr>\n",
       "      <th>4</th>\n",
       "      <td>10657117</td>\n",
       "      <td>284413</td>\n",
       "      <td>bsky.social</td>\n",
       "      <td>2024-01-05 09:22:00</td>\n",
       "      <td>Expect the world to become way way worse. If a...</td>\n",
       "      <td>['eng']</td>\n",
       "      <td>1</td>\n",
       "      <td>0</td>\n",
       "      <td>0</td>\n",
       "      <td>5271912.0</td>\n",
       "      <td>15717.0</td>\n",
       "      <td>5271912.0</td>\n",
       "      <td>15717.0</td>\n",
       "      <td>NaN</td>\n",
       "      <td>NaN</td>\n",
       "      <td>NaN</td>\n",
       "      <td>NaN</td>\n",
       "      <td>NaN</td>\n",
       "      <td>negative</td>\n",
       "      <td>0.890</td>\n",
       "    </tr>\n",
       "    <tr>\n",
       "      <th>...</th>\n",
       "      <td>...</td>\n",
       "      <td>...</td>\n",
       "      <td>...</td>\n",
       "      <td>...</td>\n",
       "      <td>...</td>\n",
       "      <td>...</td>\n",
       "      <td>...</td>\n",
       "      <td>...</td>\n",
       "      <td>...</td>\n",
       "      <td>...</td>\n",
       "      <td>...</td>\n",
       "      <td>...</td>\n",
       "      <td>...</td>\n",
       "      <td>...</td>\n",
       "      <td>...</td>\n",
       "      <td>...</td>\n",
       "      <td>...</td>\n",
       "      <td>...</td>\n",
       "      <td>...</td>\n",
       "      <td>...</td>\n",
       "    </tr>\n",
       "    <tr>\n",
       "      <th>36812</th>\n",
       "      <td>110584107</td>\n",
       "      <td>527683</td>\n",
       "      <td>bsky.social</td>\n",
       "      <td>2023-10-06 20:06:00</td>\n",
       "      <td>Are you kidding?\\n\\nThere are always people wh...</td>\n",
       "      <td>['eng']</td>\n",
       "      <td>3</td>\n",
       "      <td>1</td>\n",
       "      <td>0</td>\n",
       "      <td>4108566.0</td>\n",
       "      <td>379.0</td>\n",
       "      <td>4108566.0</td>\n",
       "      <td>379.0</td>\n",
       "      <td>NaN</td>\n",
       "      <td>NaN</td>\n",
       "      <td>NaN</td>\n",
       "      <td>NaN</td>\n",
       "      <td>NaN</td>\n",
       "      <td>negative</td>\n",
       "      <td>0.929</td>\n",
       "    </tr>\n",
       "    <tr>\n",
       "      <th>36817</th>\n",
       "      <td>105014318</td>\n",
       "      <td>92560</td>\n",
       "      <td>bsky.social</td>\n",
       "      <td>2024-03-08 01:59:00</td>\n",
       "      <td>What a complete abdication of good journalism ...</td>\n",
       "      <td>['eng']</td>\n",
       "      <td>0</td>\n",
       "      <td>0</td>\n",
       "      <td>0</td>\n",
       "      <td>698597.0</td>\n",
       "      <td>9.0</td>\n",
       "      <td>698597.0</td>\n",
       "      <td>9.0</td>\n",
       "      <td>NaN</td>\n",
       "      <td>NaN</td>\n",
       "      <td>NaN</td>\n",
       "      <td>NaN</td>\n",
       "      <td>NaN</td>\n",
       "      <td>negative</td>\n",
       "      <td>0.790</td>\n",
       "    </tr>\n",
       "    <tr>\n",
       "      <th>36818</th>\n",
       "      <td>105014322</td>\n",
       "      <td>92560</td>\n",
       "      <td>bsky.social</td>\n",
       "      <td>2024-03-07 22:16:00</td>\n",
       "      <td>Trump and Biden are at par with age...exactly ...</td>\n",
       "      <td>['eng']</td>\n",
       "      <td>4</td>\n",
       "      <td>0</td>\n",
       "      <td>0</td>\n",
       "      <td>127576.0</td>\n",
       "      <td>379.0</td>\n",
       "      <td>127576.0</td>\n",
       "      <td>379.0</td>\n",
       "      <td>NaN</td>\n",
       "      <td>NaN</td>\n",
       "      <td>NaN</td>\n",
       "      <td>NaN</td>\n",
       "      <td>NaN</td>\n",
       "      <td>negative</td>\n",
       "      <td>0.867</td>\n",
       "    </tr>\n",
       "    <tr>\n",
       "      <th>36819</th>\n",
       "      <td>105014501</td>\n",
       "      <td>92560</td>\n",
       "      <td>bsky.social</td>\n",
       "      <td>2024-01-05 08:08:00</td>\n",
       "      <td>Because doctors are literally refusing to pres...</td>\n",
       "      <td>['eng']</td>\n",
       "      <td>1</td>\n",
       "      <td>0</td>\n",
       "      <td>0</td>\n",
       "      <td>145919.0</td>\n",
       "      <td>379.0</td>\n",
       "      <td>145919.0</td>\n",
       "      <td>379.0</td>\n",
       "      <td>NaN</td>\n",
       "      <td>NaN</td>\n",
       "      <td>NaN</td>\n",
       "      <td>NaN</td>\n",
       "      <td>NaN</td>\n",
       "      <td>negative</td>\n",
       "      <td>0.882</td>\n",
       "    </tr>\n",
       "    <tr>\n",
       "      <th>36820</th>\n",
       "      <td>105014583</td>\n",
       "      <td>92560</td>\n",
       "      <td>bsky.social</td>\n",
       "      <td>2023-10-29 01:43:00</td>\n",
       "      <td>Just sat theocrat already.</td>\n",
       "      <td>['eng']</td>\n",
       "      <td>1</td>\n",
       "      <td>0</td>\n",
       "      <td>0</td>\n",
       "      <td>479706.0</td>\n",
       "      <td>379.0</td>\n",
       "      <td>479706.0</td>\n",
       "      <td>379.0</td>\n",
       "      <td>NaN</td>\n",
       "      <td>NaN</td>\n",
       "      <td>NaN</td>\n",
       "      <td>NaN</td>\n",
       "      <td>NaN</td>\n",
       "      <td>neutral</td>\n",
       "      <td>0.705</td>\n",
       "    </tr>\n",
       "  </tbody>\n",
       "</table>\n",
       "<p>16618 rows × 20 columns</p>\n",
       "</div>"
      ],
      "text/plain": [
       "         post_id  user_id     instance                date  \\\n",
       "0       10657080   284413  bsky.social 2024-01-14 08:03:00   \n",
       "1       10657084   284413  bsky.social 2024-01-12 22:12:00   \n",
       "2       10657085   284413  bsky.social 2024-01-11 14:19:00   \n",
       "3       10657096   284413  bsky.social 2024-01-08 14:10:00   \n",
       "4       10657117   284413  bsky.social 2024-01-05 09:22:00   \n",
       "...          ...      ...          ...                 ...   \n",
       "36812  110584107   527683  bsky.social 2023-10-06 20:06:00   \n",
       "36817  105014318    92560  bsky.social 2024-03-08 01:59:00   \n",
       "36818  105014322    92560  bsky.social 2024-03-07 22:16:00   \n",
       "36819  105014501    92560  bsky.social 2024-01-05 08:08:00   \n",
       "36820  105014583    92560  bsky.social 2023-10-29 01:43:00   \n",
       "\n",
       "                                                    text    langs  like_count  \\\n",
       "0                     let’s hope his expands ten fold 💪💪  ['eng']           0   \n",
       "1                                 yes, we can do this! 💪  ['eng']           3   \n",
       "2      in other words, “as long as it takes” it refer...  ['eng']           0   \n",
       "3      i’ll believe it when i see the weapons in Ukra...  ['eng']           0   \n",
       "4      Expect the world to become way way worse. If a...  ['eng']           1   \n",
       "...                                                  ...      ...         ...   \n",
       "36812  Are you kidding?\\n\\nThere are always people wh...  ['eng']           3   \n",
       "36817  What a complete abdication of good journalism ...  ['eng']           0   \n",
       "36818  Trump and Biden are at par with age...exactly ...  ['eng']           4   \n",
       "36819  Because doctors are literally refusing to pres...  ['eng']           1   \n",
       "36820                         Just sat theocrat already.  ['eng']           1   \n",
       "\n",
       "       reply_count  repost_count    reply_to  replied_author  thread_root  \\\n",
       "0                0             0  10657081.0         15717.0   10657081.0   \n",
       "1                0             0   5595208.0          2486.0    5595208.0   \n",
       "2                1             0  10657086.0         12030.0   10657086.0   \n",
       "3                0             0  10657097.0         15717.0   10657097.0   \n",
       "4                0             0   5271912.0         15717.0    5271912.0   \n",
       "...            ...           ...         ...             ...          ...   \n",
       "36812            1             0   4108566.0           379.0    4108566.0   \n",
       "36817            0             0    698597.0             9.0     698597.0   \n",
       "36818            0             0    127576.0           379.0     127576.0   \n",
       "36819            0             0    145919.0           379.0     145919.0   \n",
       "36820            0             0    479706.0           379.0     479706.0   \n",
       "\n",
       "       thread_root_author  repost_from  reposted_author  quotes  \\\n",
       "0                 15717.0          NaN              NaN     NaN   \n",
       "1                  2486.0          NaN              NaN     NaN   \n",
       "2                 12030.0          NaN              NaN     NaN   \n",
       "3                 15717.0          NaN              NaN     NaN   \n",
       "4                 15717.0          NaN              NaN     NaN   \n",
       "...                   ...          ...              ...     ...   \n",
       "36812               379.0          NaN              NaN     NaN   \n",
       "36817                 9.0          NaN              NaN     NaN   \n",
       "36818               379.0          NaN              NaN     NaN   \n",
       "36819               379.0          NaN              NaN     NaN   \n",
       "36820               379.0          NaN              NaN     NaN   \n",
       "\n",
       "       quoted_author labels sent_label  sent_score  \n",
       "0                NaN    NaN   positive       0.945  \n",
       "1                NaN    NaN   positive       0.956  \n",
       "2                NaN    NaN    neutral       0.583  \n",
       "3                NaN    NaN    neutral       0.509  \n",
       "4                NaN    NaN   negative       0.890  \n",
       "...              ...    ...        ...         ...  \n",
       "36812            NaN    NaN   negative       0.929  \n",
       "36817            NaN    NaN   negative       0.790  \n",
       "36818            NaN    NaN   negative       0.867  \n",
       "36819            NaN    NaN   negative       0.882  \n",
       "36820            NaN    NaN    neutral       0.705  \n",
       "\n",
       "[16618 rows x 20 columns]"
      ]
     },
     "execution_count": 2,
     "metadata": {},
     "output_type": "execute_result"
    }
   ],
   "source": [
    "df_news_posts = pd.read_csv(PATH_USER_REPLIES_NEWS_POSTS)\n",
    "bm_first_depth = (df_news_posts.reply_to == df_news_posts.thread_root)\n",
    "df_news_posts = df_news_posts[bm_first_depth]\n",
    "df_news_posts.dropna(subset=['sent_label'], inplace=True)\n",
    "df_news_posts['date'] = pd.to_datetime(df_news_posts['date'], errors='coerce')\n",
    "\n",
    "sent_label_mapping = { 0: 'negative', 1: 'neutral', 2: 'positive'}\n",
    "df_news_posts.loc[:, 'sent_label'] = df_news_posts.sent_label.map(sent_label_mapping)\n",
    "df_news_posts"
   ]
  },
  {
   "cell_type": "code",
   "execution_count": 3,
   "metadata": {},
   "outputs": [
    {
     "data": {
      "text/plain": [
       "65"
      ]
     },
     "execution_count": 3,
     "metadata": {},
     "output_type": "execute_result"
    }
   ],
   "source": [
    "df_news_posts.thread_root_author.nunique()"
   ]
  },
  {
   "cell_type": "code",
   "execution_count": 4,
   "metadata": {},
   "outputs": [
    {
     "name": "stderr",
     "output_type": "stream",
     "text": [
      "/tmp/ipykernel_1888105/1780271783.py:2: FutureWarning: Setting an item of incompatible dtype is deprecated and will raise in a future error of pandas. Value '['negative' 'neutral' 'negative' ... 'positive' 'positive' 'neutral']' has dtype incompatible with float64, please explicitly cast to a compatible dtype first.\n",
      "  df_all_replies.loc[:, 'sent_label'] = df_all_replies.sent_label.map(sent_label_mapping)\n"
     ]
    },
    {
     "data": {
      "text/html": [
       "<div>\n",
       "<style scoped>\n",
       "    .dataframe tbody tr th:only-of-type {\n",
       "        vertical-align: middle;\n",
       "    }\n",
       "\n",
       "    .dataframe tbody tr th {\n",
       "        vertical-align: top;\n",
       "    }\n",
       "\n",
       "    .dataframe thead th {\n",
       "        text-align: right;\n",
       "    }\n",
       "</style>\n",
       "<table border=\"1\" class=\"dataframe\">\n",
       "  <thead>\n",
       "    <tr style=\"text-align: right;\">\n",
       "      <th></th>\n",
       "      <th>post_id</th>\n",
       "      <th>user_id</th>\n",
       "      <th>date</th>\n",
       "      <th>labels</th>\n",
       "      <th>sent_label</th>\n",
       "      <th>sent_score</th>\n",
       "      <th>reply_to</th>\n",
       "      <th>thread_root</th>\n",
       "    </tr>\n",
       "  </thead>\n",
       "  <tbody>\n",
       "    <tr>\n",
       "      <th>9</th>\n",
       "      <td>79798842</td>\n",
       "      <td>527934</td>\n",
       "      <td>2024-03-18 01:33:00</td>\n",
       "      <td>NaN</td>\n",
       "      <td>negative</td>\n",
       "      <td>0.939</td>\n",
       "      <td>79798843.0</td>\n",
       "      <td>79798843.0</td>\n",
       "    </tr>\n",
       "    <tr>\n",
       "      <th>34</th>\n",
       "      <td>79798860</td>\n",
       "      <td>527934</td>\n",
       "      <td>2024-03-16 21:16:00</td>\n",
       "      <td>NaN</td>\n",
       "      <td>neutral</td>\n",
       "      <td>0.757</td>\n",
       "      <td>51667361.0</td>\n",
       "      <td>51667361.0</td>\n",
       "    </tr>\n",
       "    <tr>\n",
       "      <th>40</th>\n",
       "      <td>79798869</td>\n",
       "      <td>527934</td>\n",
       "      <td>2024-03-16 04:31:00</td>\n",
       "      <td>NaN</td>\n",
       "      <td>negative</td>\n",
       "      <td>0.791</td>\n",
       "      <td>79798870.0</td>\n",
       "      <td>79798870.0</td>\n",
       "    </tr>\n",
       "    <tr>\n",
       "      <th>42</th>\n",
       "      <td>79798871</td>\n",
       "      <td>527934</td>\n",
       "      <td>2024-03-16 02:37:00</td>\n",
       "      <td>NaN</td>\n",
       "      <td>positive</td>\n",
       "      <td>0.985</td>\n",
       "      <td>79798872.0</td>\n",
       "      <td>79798872.0</td>\n",
       "    </tr>\n",
       "    <tr>\n",
       "      <th>80</th>\n",
       "      <td>79798908</td>\n",
       "      <td>527934</td>\n",
       "      <td>2024-03-13 20:05:00</td>\n",
       "      <td>NaN</td>\n",
       "      <td>negative</td>\n",
       "      <td>0.930</td>\n",
       "      <td>79798838.0</td>\n",
       "      <td>79798838.0</td>\n",
       "    </tr>\n",
       "    <tr>\n",
       "      <th>...</th>\n",
       "      <td>...</td>\n",
       "      <td>...</td>\n",
       "      <td>...</td>\n",
       "      <td>...</td>\n",
       "      <td>...</td>\n",
       "      <td>...</td>\n",
       "      <td>...</td>\n",
       "      <td>...</td>\n",
       "    </tr>\n",
       "    <tr>\n",
       "      <th>21</th>\n",
       "      <td>1314169</td>\n",
       "      <td>3401925</td>\n",
       "      <td>2024-02-23 15:38:00</td>\n",
       "      <td>NaN</td>\n",
       "      <td>neutral</td>\n",
       "      <td>0.630</td>\n",
       "      <td>1314170.0</td>\n",
       "      <td>1314170.0</td>\n",
       "    </tr>\n",
       "    <tr>\n",
       "      <th>33</th>\n",
       "      <td>1314182</td>\n",
       "      <td>3401925</td>\n",
       "      <td>2024-02-13 04:12:00</td>\n",
       "      <td>NaN</td>\n",
       "      <td>neutral</td>\n",
       "      <td>0.634</td>\n",
       "      <td>1314183.0</td>\n",
       "      <td>1314183.0</td>\n",
       "    </tr>\n",
       "    <tr>\n",
       "      <th>40</th>\n",
       "      <td>1314189</td>\n",
       "      <td>3401925</td>\n",
       "      <td>2024-02-08 22:14:00</td>\n",
       "      <td>NaN</td>\n",
       "      <td>positive</td>\n",
       "      <td>0.978</td>\n",
       "      <td>1314190.0</td>\n",
       "      <td>1314190.0</td>\n",
       "    </tr>\n",
       "    <tr>\n",
       "      <th>44</th>\n",
       "      <td>1314193</td>\n",
       "      <td>3401925</td>\n",
       "      <td>2024-02-07 08:33:00</td>\n",
       "      <td>NaN</td>\n",
       "      <td>positive</td>\n",
       "      <td>0.844</td>\n",
       "      <td>1314194.0</td>\n",
       "      <td>1314194.0</td>\n",
       "    </tr>\n",
       "    <tr>\n",
       "      <th>49</th>\n",
       "      <td>1314200</td>\n",
       "      <td>3401925</td>\n",
       "      <td>2023-12-06 16:56:00</td>\n",
       "      <td>NaN</td>\n",
       "      <td>neutral</td>\n",
       "      <td>0.637</td>\n",
       "      <td>730483.0</td>\n",
       "      <td>730483.0</td>\n",
       "    </tr>\n",
       "  </tbody>\n",
       "</table>\n",
       "<p>6612526 rows × 8 columns</p>\n",
       "</div>"
      ],
      "text/plain": [
       "     post_id  user_id                date labels sent_label  sent_score  \\\n",
       "9   79798842   527934 2024-03-18 01:33:00    NaN   negative       0.939   \n",
       "34  79798860   527934 2024-03-16 21:16:00    NaN    neutral       0.757   \n",
       "40  79798869   527934 2024-03-16 04:31:00    NaN   negative       0.791   \n",
       "42  79798871   527934 2024-03-16 02:37:00    NaN   positive       0.985   \n",
       "80  79798908   527934 2024-03-13 20:05:00    NaN   negative       0.930   \n",
       "..       ...      ...                 ...    ...        ...         ...   \n",
       "21   1314169  3401925 2024-02-23 15:38:00    NaN    neutral       0.630   \n",
       "33   1314182  3401925 2024-02-13 04:12:00    NaN    neutral       0.634   \n",
       "40   1314189  3401925 2024-02-08 22:14:00    NaN   positive       0.978   \n",
       "44   1314193  3401925 2024-02-07 08:33:00    NaN   positive       0.844   \n",
       "49   1314200  3401925 2023-12-06 16:56:00    NaN    neutral       0.637   \n",
       "\n",
       "      reply_to  thread_root  \n",
       "9   79798843.0   79798843.0  \n",
       "34  51667361.0   51667361.0  \n",
       "40  79798870.0   79798870.0  \n",
       "42  79798872.0   79798872.0  \n",
       "80  79798838.0   79798838.0  \n",
       "..         ...          ...  \n",
       "21   1314170.0    1314170.0  \n",
       "33   1314183.0    1314183.0  \n",
       "40   1314190.0    1314190.0  \n",
       "44   1314194.0    1314194.0  \n",
       "49    730483.0     730483.0  \n",
       "\n",
       "[6612526 rows x 8 columns]"
      ]
     },
     "execution_count": 4,
     "metadata": {},
     "output_type": "execute_result"
    }
   ],
   "source": [
    "df_all_replies = pd.read_csv(PATH_ALL_SENTIMENTS, index_col=0)\n",
    "df_all_replies.loc[:, 'sent_label'] = df_all_replies.sent_label.map(sent_label_mapping)\n",
    "df_all_replies['date'] = pd.to_datetime(df_all_replies['date'], errors='coerce')\n",
    "\n",
    "# Removing all posts present in the news feed replies df\n",
    "bm_not_in_news_feed = ~df_all_replies.post_id.isin(df_news_posts.post_id)\n",
    "df_all_replies = df_all_replies[bm_not_in_news_feed]\n",
    "\n",
    "df_all_replies"
   ]
  },
  {
   "cell_type": "code",
   "execution_count": 9,
   "metadata": {},
   "outputs": [
    {
     "data": {
      "image/png": "[encoded data removed]",
      "text/plain": [
       "<Figure size 1000x600 with 1 Axes>"
      ]
     },
     "metadata": {},
     "output_type": "display_data"
    }
   ],
   "source": [
    "reply_counts = df_all_replies.groupby('reply_to').size().sort_values(ascending=False).reset_index(name='count')\n",
    "\n",
    "# Calculate the cumulative sum\n",
    "cumulative_replies = reply_counts['count'].cumsum()\n",
    "cumulative_replies = cumulative_replies / cumulative_replies.max()\n",
    "origin = pd.Series([0])\n",
    "cumulative_replies = pd.concat([origin, cumulative_replies]).reset_index(drop=True)\n",
    "cumulative_replies.reset_index(drop=True)[1e6]\n",
    "\n",
    "fig, ax = plt.subplots(figsize=(10, 6))\n",
    "ax.plot(cumulative_replies)\n",
    "ax.set_xlabel('Number of posts')\n",
    "ax.set_ylabel('Proportion of total replies')\n",
    "ax.set_title('Proportion of total replies  news post')\n",
    "\n",
    "news_reply_threshold = 10000\n",
    "ax.vlines(news_reply_threshold, 0, 1, color='red', linestyle='--')\n",
    "\n",
    "intersection_y = cumulative_replies.iloc[news_reply_threshold] if news_reply_threshold < len(cumulative_replies) else 1\n",
    "ax.scatter(news_reply_threshold, intersection_y, color='blue')\n",
    "ax.annotate(f'Prop. news below threshold: {intersection_y:.2f}', \n",
    "            xy=(news_reply_threshold, intersection_y), \n",
    "            xytext=(news_reply_threshold + 50, intersection_y - 0.1),\n",
    "            arrowprops=dict(facecolor='black', shrink=1))\n",
    "\n",
    "ax.grid(True)"
   ]
  },
  {
   "cell_type": "code",
   "execution_count": 13,
   "metadata": {},
   "outputs": [
    {
     "data": {
      "text/plain": [
       "np.int64(719616)"
      ]
     },
     "execution_count": 13,
     "metadata": {},
     "output_type": "execute_result"
    }
   ],
   "source": [
    "reply_counts[reply_counts['count'] >= 4]"
   ]
  },
  {
   "cell_type": "code",
   "execution_count": 5,
   "metadata": {},
   "outputs": [
    {
     "data": {
      "text/html": [
       "<div>\n",
       "<style scoped>\n",
       "    .dataframe tbody tr th:only-of-type {\n",
       "        vertical-align: middle;\n",
       "    }\n",
       "\n",
       "    .dataframe tbody tr th {\n",
       "        vertical-align: top;\n",
       "    }\n",
       "\n",
       "    .dataframe thead th {\n",
       "        text-align: right;\n",
       "    }\n",
       "</style>\n",
       "<table border=\"1\" class=\"dataframe\">\n",
       "  <thead>\n",
       "    <tr style=\"text-align: right;\">\n",
       "      <th>sent_label</th>\n",
       "      <th>negative</th>\n",
       "      <th>neutral</th>\n",
       "      <th>positive</th>\n",
       "    </tr>\n",
       "  </thead>\n",
       "  <tbody>\n",
       "    <tr>\n",
       "      <th>sent_label_news_replies</th>\n",
       "      <td>9664</td>\n",
       "      <td>5046</td>\n",
       "      <td>1908</td>\n",
       "    </tr>\n",
       "    <tr>\n",
       "      <th>sent_label_not_news_replies</th>\n",
       "      <td>1667351</td>\n",
       "      <td>2483904</td>\n",
       "      <td>2461271</td>\n",
       "    </tr>\n",
       "  </tbody>\n",
       "</table>\n",
       "</div>"
      ],
      "text/plain": [
       "sent_label                   negative  neutral  positive\n",
       "sent_label_news_replies          9664     5046      1908\n",
       "sent_label_not_news_replies   1667351  2483904   2461271"
      ]
     },
     "execution_count": 5,
     "metadata": {},
     "output_type": "execute_result"
    }
   ],
   "source": [
    "df_news_posts_agg = df_news_posts.groupby('sent_label').agg({'sent_label': 'count'})\n",
    "df_all_replies_agg = df_all_replies.groupby('sent_label').agg({'sent_label': 'count'})\n",
    "cont_table = df_news_posts_agg.join(df_all_replies_agg, lsuffix='_news_replies', rsuffix='_not_news_replies').T\n",
    "#cont_table['total'] = cont_table.sum(axis=1)\n",
    "#cont_table  = cont_table.T\n",
    "#cont_table['total'] = cont_table.sum(axis=1)\n",
    "cont_table"
   ]
  },
  {
   "cell_type": "code",
   "execution_count": 6,
   "metadata": {},
   "outputs": [
    {
     "name": "stdout",
     "output_type": "stream",
     "text": [
      "Chi2: 10293.764569128034, p: 0.0, dof: 2\n"
     ]
    }
   ],
   "source": [
    "from scipy.stats import chi2_contingency\n",
    "\n",
    "chi2, p, dof, ex = chi2_contingency(cont_table)\n",
    "print(f'Chi2: {chi2}, p: {p}, dof: {dof}')"
   ]
  },
  {
   "cell_type": "code",
   "execution_count": 7,
   "metadata": {},
   "outputs": [
    {
     "name": "stdout",
     "output_type": "stream",
     "text": [
      "0.0\n"
     ]
    }
   ],
   "source": [
    "np.set_printoptions(precision=15)\n",
    "print(p)"
   ]
  },
  {
   "cell_type": "code",
   "execution_count": 8,
   "metadata": {},
   "outputs": [
    {
     "data": {
      "text/plain": [
       "array([[   4203.956841184925,    6239.323070972662,    6174.720087842412],\n",
       "       [1672811.043158815   , 2482710.6769290273  , 2457004.2799121574  ]])"
      ]
     },
     "execution_count": 8,
     "metadata": {},
     "output_type": "execute_result"
    }
   ],
   "source": [
    "    ex"
   ]
  },
  {
   "cell_type": "code",
   "execution_count": 9,
   "metadata": {},
   "outputs": [
    {
     "data": {
      "text/plain": [
       "[83904.0,\n",
       " 126715.0,\n",
       " 26242.0,\n",
       " 134087.0,\n",
       " 158825.0,\n",
       " 109343.0,\n",
       " 600586.0,\n",
       " 122425.0,\n",
       " 183511.0,\n",
       " 378714.0,\n",
       " 118661.0,\n",
       " 202460.0,\n",
       " 479706.0]"
      ]
     },
     "execution_count": 9,
     "metadata": {},
     "output_type": "execute_result"
    }
   ],
   "source": [
    "df_news_posts.groupby('reply_to').agg({'sent_label': 'count'}).sort_values('sent_label', ascending=False).head(13).index.tolist()"
   ]
  },
  {
   "cell_type": "code",
   "execution_count": 10,
   "metadata": {},
   "outputs": [
    {
     "data": {
      "text/html": [
       "<div>\n",
       "<style scoped>\n",
       "    .dataframe tbody tr th:only-of-type {\n",
       "        vertical-align: middle;\n",
       "    }\n",
       "\n",
       "    .dataframe tbody tr th {\n",
       "        vertical-align: top;\n",
       "    }\n",
       "\n",
       "    .dataframe thead th {\n",
       "        text-align: right;\n",
       "    }\n",
       "</style>\n",
       "<table border=\"1\" class=\"dataframe\">\n",
       "  <thead>\n",
       "    <tr style=\"text-align: right;\">\n",
       "      <th>sent_label</th>\n",
       "      <th>negative</th>\n",
       "      <th>neutral</th>\n",
       "      <th>positive</th>\n",
       "    </tr>\n",
       "  </thead>\n",
       "  <tbody>\n",
       "    <tr>\n",
       "      <th>sent_label_news_replies</th>\n",
       "      <td>9664</td>\n",
       "      <td>5046</td>\n",
       "      <td>1908</td>\n",
       "    </tr>\n",
       "    <tr>\n",
       "      <th>sent_label_not_news_replies</th>\n",
       "      <td>1667351</td>\n",
       "      <td>2483904</td>\n",
       "      <td>2461271</td>\n",
       "    </tr>\n",
       "  </tbody>\n",
       "</table>\n",
       "</div>"
      ],
      "text/plain": [
       "sent_label                   negative  neutral  positive\n",
       "sent_label_news_replies          9664     5046      1908\n",
       "sent_label_not_news_replies   1667351  2483904   2461271"
      ]
     },
     "execution_count": 10,
     "metadata": {},
     "output_type": "execute_result"
    }
   ],
   "source": [
    "cont_table"
   ]
  },
  {
   "cell_type": "code",
   "execution_count": 11,
   "metadata": {},
   "outputs": [
    {
     "data": {
      "text/plain": [
       "Index(['sent_label_news_replies', 'sent_label_not_news_replies'], dtype='object')"
      ]
     },
     "execution_count": 11,
     "metadata": {},
     "output_type": "execute_result"
    }
   ],
   "source": [
    "cont_table.index"
   ]
  },
  {
   "cell_type": "code",
   "execution_count": 12,
   "metadata": {},
   "outputs": [
    {
     "data": {
      "text/plain": [
       "array([9664, 5046, 1908])"
      ]
     },
     "execution_count": 12,
     "metadata": {},
     "output_type": "execute_result"
    }
   ],
   "source": [
    "cont_table.loc['sent_label_news_replies'].values.flatten()"
   ]
  },
  {
   "cell_type": "code",
   "execution_count": 13,
   "metadata": {},
   "outputs": [
    {
     "data": {
      "text/plain": [
       "(array([0.581538091226381, 0.303646648212781, 0.114815260560838]),\n",
       " array([0.252150388520211, 0.375636178973058, 0.37221343250673 ]))"
      ]
     },
     "execution_count": 13,
     "metadata": {},
     "output_type": "execute_result"
    }
   ],
   "source": [
    "news_proportions = cont_table.loc['sent_label_news_replies'].values.flatten()\n",
    "non_news_proportions = cont_table.loc['sent_label_not_news_replies'].values.flatten()\n",
    "\n",
    "# Normalize the data\n",
    "news_proportions = news_proportions / news_proportions.sum()\n",
    "non_news_proportions = non_news_proportions / non_news_proportions.sum()\n",
    "\n",
    "news_proportions, non_news_proportions"
   ]
  },
  {
   "cell_type": "code",
   "execution_count": 14,
   "metadata": {},
   "outputs": [],
   "source": [
    "COLOR_POSITIVE = os.environ.get('COLOR_POSITIVE')\n",
    "COLOR_NEUTRAL = os.environ.get('COLOR_NEUTRAL')\n",
    "COLOR_NEGATIVE = os.environ.get('COLOR_NEGATIVE')"
   ]
  },
  {
   "cell_type": "code",
   "execution_count": 15,
   "metadata": {},
   "outputs": [
    {
     "data": {
      "text/plain": [
       "'#ff7f0e'"
      ]
     },
     "execution_count": 15,
     "metadata": {},
     "output_type": "execute_result"
    }
   ],
   "source": [
    "COLOR_NEGATIVE"
   ]
  },
  {
   "cell_type": "code",
   "execution_count": 17,
   "metadata": {},
   "outputs": [
    {
     "data": {
      "text/plain": [
       "<matplotlib.legend.Legend at 0x7f07a364b9d0>"
      ]
     },
     "execution_count": 17,
     "metadata": {},
     "output_type": "execute_result"
    },
    {
     "data": {
      "image/png": "[encoded data removed]",
      "text/plain": [
       "<Figure size 1000x500 with 1 Axes>"
      ]
     },
     "metadata": {},
     "output_type": "display_data"
    }
   ],
   "source": [
    "# Set the width of the bars\n",
    "bar_width = 0.35\n",
    "\n",
    "# Set the positions of the bars on the x-axis\n",
    "r = np.arange(1)\n",
    "\n",
    "# Create the bar chart\n",
    "fig, ax = plt.subplots(figsize=(10, 5))\n",
    "\n",
    "# Plot bars for news proportions\n",
    "ax.bar(r, news_proportions[2], color=COLOR_NEGATIVE, width=bar_width, edgecolor='black', label='Negative')\n",
    "ax.bar(r, news_proportions[0], bottom=news_proportions[2], color=COLOR_POSITIVE, width=bar_width, edgecolor='black', label='Positive')\n",
    "ax.bar(r, news_proportions[1], bottom=news_proportions[2] + news_proportions[0], color=COLOR_NEUTRAL, width=bar_width, edgecolor='black', label='Neutral')\n",
    "\n",
    "# Plot bars for non-news proportions without labels\n",
    "ax.bar(r + bar_width, non_news_proportions[2], color=COLOR_NEGATIVE, width=bar_width, edgecolor='black')\n",
    "ax.bar(r + bar_width, non_news_proportions[0], bottom=non_news_proportions[2], color=COLOR_POSITIVE, width=bar_width, edgecolor='black')\n",
    "ax.bar(r + bar_width, non_news_proportions[1], bottom=non_news_proportions[2] + non_news_proportions[0], color=COLOR_NEUTRAL, width=bar_width, edgecolor='black')\n",
    "\n",
    "# Add labels\n",
    "ax.set_xlabel('Post Type', fontweight='bold')\n",
    "ax.set_ylabel('Proportion', fontweight='bold')\n",
    "ax.set_title('Proportions of Sentiments of Replies to Non-News and News Posts')\n",
    "ax.set_xticks([r + bar_width / 2 for r in range(1)])\n",
    "ax.set_xticklabels(['Non-News vs News'])\n",
    "ax.set_ylim(0, 1)\n",
    "\n",
    "# Add legend\n",
    "ax.legend()"
   ]
  }
 ],
 "metadata": {
  "kernelspec": {
   "display_name": ".venv",
   "language": "python",
   "name": "python3"
  },
  "language_info": {
   "codemirror_mode": {
    "name": "ipython",
    "version": 3
   },
   "file_extension": ".py",
   "mimetype": "text/x-python",
   "name": "python",
   "nbconvert_exporter": "python",
   "pygments_lexer": "ipython3",
   "version": "3.10.12"
  }
 },
 "nbformat": 4,
 "nbformat_minor": 2
}
